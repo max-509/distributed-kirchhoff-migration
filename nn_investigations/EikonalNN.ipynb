{
  "nbformat": 4,
  "nbformat_minor": 0,
  "metadata": {
    "colab": {
      "name": "EikonalNN.ipynb",
      "provenance": [],
      "collapsed_sections": []
    },
    "kernelspec": {
      "name": "python3",
      "display_name": "Python 3"
    },
    "language_info": {
      "name": "python"
    },
    "accelerator": "GPU"
  },
  "cells": [
    {
      "cell_type": "code",
      "execution_count": 1,
      "metadata": {
        "colab": {
          "base_uri": "https://localhost:8080/"
        },
        "id": "9NEiWr0KGJ2m",
        "outputId": "889d2abd-a436-4bd4-f7c0-387609c6942e"
      },
      "outputs": [
        {
          "output_type": "stream",
          "name": "stdout",
          "text": [
            "Collecting eikonalfm\n",
            "  Downloading eikonalfm-0.9.5.tar.gz (12 kB)\n",
            "Requirement already satisfied: numpy>=1.7 in /usr/local/lib/python3.7/dist-packages (from eikonalfm) (1.19.5)\n",
            "Building wheels for collected packages: eikonalfm\n",
            "  Building wheel for eikonalfm (setup.py) ... \u001b[?25l\u001b[?25hdone\n",
            "  Created wheel for eikonalfm: filename=eikonalfm-0.9.5-cp37-cp37m-linux_x86_64.whl size=93329 sha256=3b155e8d5e02530243adc766e55647bd60db7ef25c6368cafe732841319d968b\n",
            "  Stored in directory: /root/.cache/pip/wheels/e7/3e/c9/d101978dda8f0677a3aab39aab1fbabfb43ff8a89949c790e6\n",
            "Successfully built eikonalfm\n",
            "Installing collected packages: eikonalfm\n",
            "Successfully installed eikonalfm-0.9.5\n"
          ]
        }
      ],
      "source": [
        "!pip install eikonalfm"
      ]
    },
    {
      "cell_type": "code",
      "source": [
        "import pandas as pd\n",
        "import matplotlib.pyplot as plt\n",
        "import numpy as np"
      ],
      "metadata": {
        "id": "PafkuBtbGQBR"
      },
      "execution_count": 2,
      "outputs": []
    },
    {
      "cell_type": "code",
      "source": [
        "from google.colab import drive\n",
        "\n",
        "drive.mount('/content/gdrive')\n",
        "\n"
      ],
      "metadata": {
        "colab": {
          "base_uri": "https://localhost:8080/"
        },
        "id": "dStAL1KNGSHE",
        "outputId": "4e5aa6ee-aa6f-49e6-a3c8-5b7146329caa"
      },
      "execution_count": 3,
      "outputs": [
        {
          "output_type": "stream",
          "name": "stdout",
          "text": [
            "Mounted at /content/gdrive\n"
          ]
        }
      ]
    },
    {
      "cell_type": "code",
      "source": [
        "dt = 0.001\n",
        "dx = 20\n",
        "dz = 20 \n",
        "x_set = np.arange(0,4000 + dx, dx)\n",
        "z_set = np.arange(0,2000 + dz, dz)\n",
        "velocity = np.zeros((len(z_set),len(x_set)))\n",
        "velocity[:int(500/dz), :] = 2000\n",
        "velocity[int(500/dz):int(1000 / dz), :] = 3000\n",
        "velocity[int(1000/dz):int(1500 / dz), :] = 4000\n",
        "velocity[int(1500/dz):int(2000 +dz / dz), :] = 5000\n",
        "# for i in range(len(z_set)):\n",
        "#   if i < 50:\n",
        "#     velocity[i,:] = 2000\n",
        "#   elif (i >= 50 and i < 100):\n",
        "#     velocity[i,:] = 3000\n",
        "#   elif (i >= 100 and i < 150):\n",
        "#     velocity[i,:] = 4000\n",
        "#   elif (i >= 150 and i <= 200):\n",
        "#     velocity[i,:] = 5000"
      ],
      "metadata": {
        "id": "gViTdLbGIQsx"
      },
      "execution_count": 15,
      "outputs": []
    },
    {
      "cell_type": "code",
      "source": [
        "velocity.shape"
      ],
      "metadata": {
        "id": "5r_pBWkZIS28",
        "colab": {
          "base_uri": "https://localhost:8080/"
        },
        "outputId": "291dc566-8e8f-469c-d5f9-5548b79489ed"
      },
      "execution_count": 5,
      "outputs": [
        {
          "output_type": "execute_result",
          "data": {
            "text/plain": [
              "(201, 398)"
            ]
          },
          "metadata": {},
          "execution_count": 5
        }
      ]
    },
    {
      "cell_type": "code",
      "source": [
        "# Скоростная модель\n",
        "fig = plt.figure(figsize=(8,8))\n",
        "im = plt.imshow(velocity,\n",
        "                aspect = 'auto',\n",
        "                extent = [x_set[0],\n",
        "                          x_set[-1],\n",
        "                          z_set[-1],\n",
        "                          z_set[0]]\n",
        "               )\n",
        "plt.title('Скоростная модель',size = 25)\n",
        "plt.colorbar(im,orientation = 'horizontal')\n",
        "plt.show()"
      ],
      "metadata": {
        "id": "1Kmpsb2aIVuP",
        "colab": {
          "base_uri": "https://localhost:8080/",
          "height": 465
        },
        "outputId": "c72b9114-4786-4638-f8ad-8f739c04ca3b"
      },
      "execution_count": 6,
      "outputs": [
        {
          "output_type": "display_data",
          "data": {
            "image/png": "[encoded data removed]",
            "text/plain": [
              "<Figure size 576x576 with 2 Axes>"
            ]
          },
          "metadata": {
            "needs_background": "light"
          }
        }
      ]
    },
    {
      "cell_type": "code",
      "source": [
        "import eikonalfm\n",
        "\n",
        "x_s = (0, 1000/dx)# первый индекс z, второй x. Это индексы в массиве координат \n",
        "ddx = (1.0, 1.0)\n",
        "order = 2\n",
        "\n",
        "tau_fm = eikonalfm.fast_marching(velocity, x_s, ddx, order)"
      ],
      "metadata": {
        "id": "N45wp0UcIXm1"
      },
      "execution_count": 7,
      "outputs": []
    },
    {
      "cell_type": "code",
      "source": [
        "help(eikonalfm.fast_marching)"
      ],
      "metadata": {
        "id": "InY_4Rc4IZT2",
        "colab": {
          "base_uri": "https://localhost:8080/"
        },
        "outputId": "1b22c25f-22b0-41c0-ae32-26e4acae05bd"
      },
      "execution_count": 8,
      "outputs": [
        {
          "output_type": "stream",
          "name": "stdout",
          "text": [
            "Help on built-in function fast_marching in module eikonalfm.cfm:\n",
            "\n",
            "fast_marching(c, x_s, dx, order)\n",
            "    Calculates the fast marching solution to the eikonal equation.\n",
            "    \n",
            "    Parameters\n",
            "    ----------\n",
            "    c : ndarray\n",
            "        (background) velocity array, c(x) > 0.\n",
            "    x_s : sequence of ints\n",
            "        Source position as index vector, e.g. ``(0, 0)``. Must have the same length as the number of dimensions of c.\n",
            "    dx : sequence of doubles\n",
            "        Grid spacing for each dimension, dx > 0. Must have the same length as the number of dimensions of c.\n",
            "    order : {1, 2}\n",
            "        Order of the finite difference operators.\n",
            "    \n",
            "    Returns\n",
            "    ----------\n",
            "    tau : ndarray\n",
            "        numerical solution tau for the eikonal equation.\n",
            "\n"
          ]
        }
      ]
    },
    {
      "cell_type": "code",
      "source": [
        "tau_fm.shape"
      ],
      "metadata": {
        "id": "n2ok8puKIcI9",
        "colab": {
          "base_uri": "https://localhost:8080/"
        },
        "outputId": "8382579b-6591-4ebe-dacb-ff472c638188"
      },
      "execution_count": 9,
      "outputs": [
        {
          "output_type": "execute_result",
          "data": {
            "text/plain": [
              "(201, 398)"
            ]
          },
          "metadata": {},
          "execution_count": 9
        }
      ]
    },
    {
      "cell_type": "code",
      "source": [
        "# tau0 = eikonalfm.distance(tau_fm.shape, dx, x_s, indexing=\"ij\") ?  не понял метод\n",
        "im1 = plt.contourf(( tau_fm), # здесь в скобках может стоять tau0*tau_fm\n",
        "                 extent = [x_set[0],\n",
        "                          x_set[-1],\n",
        "                          z_set[0],\n",
        "                          z_set[-1]])\n",
        "plt.colorbar(im1,orientation = 'horizontal')\n",
        "plt.show();"
      ],
      "metadata": {
        "id": "uiLm5bhxIduq",
        "colab": {
          "base_uri": "https://localhost:8080/",
          "height": 253
        },
        "outputId": "28ab82c4-76b0-4c80-cf81-f679276dd0e7"
      },
      "execution_count": 10,
      "outputs": [
        {
          "output_type": "display_data",
          "data": {
            "image/png": "[encoded data removed]",
            "text/plain": [
              "<Figure size 432x288 with 2 Axes>"
            ]
          },
          "metadata": {
            "needs_background": "light"
          }
        }
      ]
    },
    {
      "cell_type": "code",
      "source": [
        "dx_sou = 20\n",
        "sources_x = np.arange(0,4000+dx_sou,dx_sou)\n",
        "input = np.zeros((velocity.shape[0]*velocity.shape[1]*len(sources_x), 3))\n",
        "observed_time = np.zeros((velocity.shape[0]*velocity.shape[1]*len(sources_x), 1))\n",
        "# x_set, z_set  \n",
        "s = 0\n",
        "for sou in sources_x:\n",
        "  x_s = (0, int(sou/dx_sou))\n",
        "  ddx = (1.0, 1.0)\n",
        "  tau_fm = eikonalfm.fast_marching(velocity, x_s, ddx, 2)\n",
        "  for j in range(len(z_set)):\n",
        "    for k in range(len(x_set)):\n",
        "        input[s] = np.array((sou,z_set[j], x_set[k]))\n",
        "        observed_time[s] = tau_fm[j,k] \n",
        "        s += 1"
      ],
      "metadata": {
        "id": "W6d8CoO3IgO7"
      },
      "execution_count": 16,
      "outputs": []
    },
    {
      "cell_type": "code",
      "source": [
        "observed_time[100]"
      ],
      "metadata": {
        "id": "Gv9K_ZlSIg8r",
        "colab": {
          "base_uri": "https://localhost:8080/"
        },
        "outputId": "bc7e41a0-3e57-4e28-b2a4-4334da49018a"
      },
      "execution_count": 88,
      "outputs": [
        {
          "output_type": "execute_result",
          "data": {
            "text/plain": [
              "array([0.05])"
            ]
          },
          "metadata": {},
          "execution_count": 88
        }
      ]
    },
    {
      "cell_type": "code",
      "source": [
        "input.shape"
      ],
      "metadata": {
        "id": "9XT7MXsEIif_",
        "colab": {
          "base_uri": "https://localhost:8080/"
        },
        "outputId": "33a1eb9a-9f38-4bb5-bc56-93a822fce1fb"
      },
      "execution_count": 18,
      "outputs": [
        {
          "output_type": "execute_result",
          "data": {
            "text/plain": [
              "(4080501, 3)"
            ]
          },
          "metadata": {},
          "execution_count": 18
        }
      ]
    },
    {
      "cell_type": "code",
      "source": [
        "input"
      ],
      "metadata": {
        "id": "30W0ck6xIjwe",
        "colab": {
          "base_uri": "https://localhost:8080/"
        },
        "outputId": "919acb11-be5a-450c-dcce-6a270110afcd"
      },
      "execution_count": 19,
      "outputs": [
        {
          "output_type": "execute_result",
          "data": {
            "text/plain": [
              "array([[   0.,    0.,    0.],\n",
              "       [   0.,    0.,   20.],\n",
              "       [   0.,    0.,   40.],\n",
              "       ...,\n",
              "       [4000., 2000., 3960.],\n",
              "       [4000., 2000., 3980.],\n",
              "       [4000., 2000., 4000.]])"
            ]
          },
          "metadata": {},
          "execution_count": 19
        }
      ]
    },
    {
      "cell_type": "code",
      "source": [
        "from sklearn.model_selection import train_test_split"
      ],
      "metadata": {
        "id": "HAko2SLJIlLZ"
      },
      "execution_count": 20,
      "outputs": []
    },
    {
      "cell_type": "code",
      "source": [
        "x_train, x_test, y_train, y_test = train_test_split(input, observed_time, test_size=0.33, random_state=42)"
      ],
      "metadata": {
        "id": "q8HBs2WNInIu"
      },
      "execution_count": 21,
      "outputs": []
    },
    {
      "cell_type": "code",
      "source": [
        "x_train.shape"
      ],
      "metadata": {
        "id": "H2J3fhg0IpBR",
        "colab": {
          "base_uri": "https://localhost:8080/"
        },
        "outputId": "1baab9ee-d6c9-4772-d2b1-cc054ad45760"
      },
      "execution_count": 22,
      "outputs": [
        {
          "output_type": "execute_result",
          "data": {
            "text/plain": [
              "(2733935, 3)"
            ]
          },
          "metadata": {},
          "execution_count": 22
        }
      ]
    },
    {
      "cell_type": "code",
      "source": [
        "import tensorflow as tf\n",
        "# from typing import List, Tuple\n",
        "\n",
        "\n",
        "# class Residualblock(tf.keras.layers.Layer):\n",
        "#     def __init__(self,units):\n",
        "#         super(Residualblock, self).__init__()\n",
        "#         self.dense_1 = tf.keras.layers.Dense(units, activation='elu')\n",
        "#         self.dense_2 = tf.keras.layers.Dense(units)\n",
        "#         self.dense_3 = tf.keras.layers.Dense(units)\n",
        "#         self.add = tf.keras.layers.Add()\n",
        "\n",
        "#     def call(self, inputs):\n",
        "#         x1 = self.dense_1(inputs)\n",
        "#         x1 = self.dense_2(x1)\n",
        "#         x2 = self.dense_3(inputs)\n",
        "#         x3 = self.add((x1,x2))\n",
        "#         # x3 = tf.keras.layers.ELU(x3)\n",
        "#         x3 = tf.nn.elu(x3)\n",
        "#         return x3\n",
        "# # требует доработки\n",
        "# class RescaleByCoordinatesLayer(tf.keras.layers.Layer):\n",
        "#     def __init__(self, offsetScaleList: List[Tuple[float, float]]):\n",
        "#          super(RescaleByCoordinatesLayer, self).__init__()\n",
        "#          self.offsetScaleList = offsetScaleList\n",
        "\n",
        "#     def call(self, inputs):\n",
        "#         outputs = []\n",
        "#         for idx, (offset, scale) in enumerate(self.offsetScaleList):\n",
        "#             outputs.append(input[:, idx]*scale + offset)\n",
        "\n",
        "#         return tf.transpose(tf.stack(outputs))"
      ],
      "metadata": {
        "id": "VTKvB8BIIq1j"
      },
      "execution_count": 23,
      "outputs": []
    },
    {
      "cell_type": "code",
      "source": [
        "class TravelTimesNN(tf.keras.Model):\n",
        "\n",
        "    def __init__(self, n_denses=6):\n",
        "        super(TravelTimesNN, self).__init__()\n",
        "        self.input_layer = tf.keras.layers.InputLayer(input_shape=(3,), dtype=tf.float32)\n",
        "        self.rescaling = tf.keras.layers.Rescaling(scale= 1./np.max(x_set),)\n",
        "        self.denses = [tf.keras.layers.Dense(50, activation='tanh') for i in range(n_denses)]\n",
        "        self.output_layer = tf.keras.layers.Dense(1, activation=tf.keras.activations.exponential)\n",
        "\n",
        "    def call(self, inputs):\n",
        "        inputs = self.input_layer(inputs)\n",
        "        inputs = self.rescaling(inputs)\n",
        "        x = inputs\n",
        "        for dense in self.denses:\n",
        "            x = dense(x)\n",
        "        x = self.output_layer(x)\n",
        "        norms = tf.math.sqrt(\n",
        "            tf.math.add(tf.math.square(tf.math.subtract(inputs[:, 0], \n",
        "                                                        inputs[:, 2])),\n",
        "                        tf.math.square(inputs[:, 1])))\n",
        "        \n",
        "        outputs = tf.math.multiply(x,\n",
        "                                   tf.reshape(norms, (-1, 1)))\n",
        "\n",
        "        return outputs"
      ],
      "metadata": {
        "id": "KEjdPi7qa4qW"
      },
      "execution_count": 116,
      "outputs": []
    },
    {
      "cell_type": "code",
      "source": [
        "model = TravelTimesNN(4)"
      ],
      "metadata": {
        "id": "qWOwrgQ9cAuq"
      },
      "execution_count": 117,
      "outputs": []
    },
    {
      "cell_type": "code",
      "source": [
        "# model = tf.keras.models.Sequential([\n",
        "#                                     tf.keras.layers.InputLayer(input_shape=(3,)),\n",
        "#                                     # RescaleByCoordinatesLayer([(2/np.max(x_set),-1.0),(2/np.max(z_set),-1.0),(2/np.max(x_set),-1.0)]),\n",
        "#                                     tf.keras.layers.Rescaling(scale= 2./np.max(x_set), offset=-1.0,),\n",
        "#                                     tf.keras.layers.Dense(32, activation='elu'),\n",
        "#                                     tf.keras.layers.Dense(256, activation='elu'),\n",
        "#                                     Residualblock(256),\n",
        "#                                     Residualblock(256),\n",
        "#                                     # Residualblock(512),\n",
        "#                                     tf.keras.layers.Dense(256, activation='elu'),\n",
        "#                                     tf.keras.layers.Dense(32),\n",
        "#                                     tf.keras.layers.Dense(1)\n",
        "#                                     ]) \n"
      ],
      "metadata": {
        "id": "QxFU3s0VItdN"
      },
      "execution_count": 93,
      "outputs": []
    },
    {
      "cell_type": "code",
      "source": [
        "model.summary()"
      ],
      "metadata": {
        "id": "CDqYsKyNIvQy",
        "colab": {
          "base_uri": "https://localhost:8080/",
          "height": 286
        },
        "outputId": "8cbcd3f1-cb90-4b93-f07f-4b512c0550b5"
      },
      "execution_count": 94,
      "outputs": [
        {
          "output_type": "error",
          "ename": "ValueError",
          "evalue": "ignored",
          "traceback": [
            "\u001b[0;31m---------------------------------------------------------------------------\u001b[0m",
            "\u001b[0;31mValueError\u001b[0m                                Traceback (most recent call last)",
            "\u001b[0;32m<ipython-input-94-5f15418b3570>\u001b[0m in \u001b[0;36m<module>\u001b[0;34m()\u001b[0m\n\u001b[0;32m----> 1\u001b[0;31m \u001b[0mmodel\u001b[0m\u001b[0;34m.\u001b[0m\u001b[0msummary\u001b[0m\u001b[0;34m(\u001b[0m\u001b[0;34m)\u001b[0m\u001b[0;34m\u001b[0m\u001b[0;34m\u001b[0m\u001b[0m\n\u001b[0m",
            "\u001b[0;32m/usr/local/lib/python3.7/dist-packages/keras/engine/training.py\u001b[0m in \u001b[0;36msummary\u001b[0;34m(self, line_length, positions, print_fn, expand_nested)\u001b[0m\n\u001b[1;32m   2578\u001b[0m     \u001b[0;32mif\u001b[0m \u001b[0;32mnot\u001b[0m \u001b[0mself\u001b[0m\u001b[0;34m.\u001b[0m\u001b[0mbuilt\u001b[0m\u001b[0;34m:\u001b[0m\u001b[0;34m\u001b[0m\u001b[0;34m\u001b[0m\u001b[0m\n\u001b[1;32m   2579\u001b[0m       raise ValueError(\n\u001b[0;32m-> 2580\u001b[0;31m           \u001b[0;34m'This model has not yet been built. '\u001b[0m\u001b[0;34m\u001b[0m\u001b[0;34m\u001b[0m\u001b[0m\n\u001b[0m\u001b[1;32m   2581\u001b[0m           \u001b[0;34m'Build the model first by calling `build()` or by calling '\u001b[0m\u001b[0;34m\u001b[0m\u001b[0;34m\u001b[0m\u001b[0m\n\u001b[1;32m   2582\u001b[0m           'the model on a batch of data.')\n",
            "\u001b[0;31mValueError\u001b[0m: This model has not yet been built. Build the model first by calling `build()` or by calling the model on a batch of data."
          ]
        }
      ]
    },
    {
      "cell_type": "code",
      "source": [
        "model.compile(optimizer=tf.keras.optimizers.Adam(learning_rate=5e-5),\n",
        "              loss= tf.keras.losses.mean_squared_error,\n",
        "              metrics=[tf.keras.metrics.mean_squared_error, tf.keras.metrics.mean_absolute_error],)"
      ],
      "metadata": {
        "id": "SoenBPvtIwyT"
      },
      "execution_count": 118,
      "outputs": []
    },
    {
      "cell_type": "code",
      "source": [
        "model.fit(x_train, y_train, epochs=10, batch_size=256)"
      ],
      "metadata": {
        "id": "OOWZwkE-IzKz",
        "colab": {
          "base_uri": "https://localhost:8080/"
        },
        "outputId": "92641c9f-d902-4eac-af5f-a7d98753c296"
      },
      "execution_count": 127,
      "outputs": [
        {
          "output_type": "stream",
          "name": "stdout",
          "text": [
            "Epoch 1/10\n",
            "10680/10680 [==============================] - 46s 4ms/step - loss: 2.3518e-07 - mean_squared_error: 2.3518e-07 - mean_absolute_error: 3.2075e-04\n",
            "Epoch 2/10\n",
            "10680/10680 [==============================] - 46s 4ms/step - loss: 2.2627e-07 - mean_squared_error: 2.2627e-07 - mean_absolute_error: 3.1204e-04\n",
            "Epoch 3/10\n",
            "10680/10680 [==============================] - 47s 4ms/step - loss: 2.2076e-07 - mean_squared_error: 2.2076e-07 - mean_absolute_error: 3.0760e-04\n",
            "Epoch 4/10\n",
            "10680/10680 [==============================] - 46s 4ms/step - loss: 2.1647e-07 - mean_squared_error: 2.1647e-07 - mean_absolute_error: 3.0375e-04\n",
            "Epoch 5/10\n",
            "10680/10680 [==============================] - 46s 4ms/step - loss: 2.1340e-07 - mean_squared_error: 2.1340e-07 - mean_absolute_error: 3.0111e-04\n",
            "Epoch 6/10\n",
            "10680/10680 [==============================] - 46s 4ms/step - loss: 2.1108e-07 - mean_squared_error: 2.1108e-07 - mean_absolute_error: 2.9894e-04\n",
            "Epoch 7/10\n",
            "10680/10680 [==============================] - 46s 4ms/step - loss: 2.0918e-07 - mean_squared_error: 2.0918e-07 - mean_absolute_error: 2.9707e-04\n",
            "Epoch 8/10\n",
            "10680/10680 [==============================] - 46s 4ms/step - loss: 2.0766e-07 - mean_squared_error: 2.0766e-07 - mean_absolute_error: 2.9572e-04\n",
            "Epoch 9/10\n",
            "10680/10680 [==============================] - 46s 4ms/step - loss: 2.0626e-07 - mean_squared_error: 2.0626e-07 - mean_absolute_error: 2.9453e-04\n",
            "Epoch 10/10\n",
            "10680/10680 [==============================] - 46s 4ms/step - loss: 2.0520e-07 - mean_squared_error: 2.0520e-07 - mean_absolute_error: 2.9390e-04\n"
          ]
        },
        {
          "output_type": "execute_result",
          "data": {
            "text/plain": [
              "<keras.callbacks.History at 0x7f4aa2179e90>"
            ]
          },
          "metadata": {},
          "execution_count": 127
        }
      ]
    },
    {
      "cell_type": "code",
      "source": [
        "model.evaluate(x_test,  y_test, verbose=1)"
      ],
      "metadata": {
        "id": "L6xj5DREI1Mi",
        "colab": {
          "base_uri": "https://localhost:8080/"
        },
        "outputId": "c47e3cb6-096e-4d3f-d53e-bde9c8d0c662"
      },
      "execution_count": 131,
      "outputs": [
        {
          "output_type": "stream",
          "name": "stdout",
          "text": [
            "42081/42081 [==============================] - 128s 3ms/step - loss: 2.0635e-07 - mean_squared_error: 2.0635e-07 - mean_absolute_error: 2.9383e-04\n"
          ]
        },
        {
          "output_type": "execute_result",
          "data": {
            "text/plain": [
              "[2.0634888642234728e-07, 2.0634888642234728e-07, 0.0002938283432740718]"
            ]
          },
          "metadata": {},
          "execution_count": 131
        }
      ]
    },
    {
      "cell_type": "code",
      "source": [
        "model.predict(np.array([[0,0,2000]]))"
      ],
      "metadata": {
        "colab": {
          "base_uri": "https://localhost:8080/"
        },
        "id": "vOph_zyFOkfs",
        "outputId": "3b8bf3b4-4768-4e81-e6f3-700bf9ac359c"
      },
      "execution_count": 129,
      "outputs": [
        {
          "output_type": "execute_result",
          "data": {
            "text/plain": [
              "array([[0.04996918]], dtype=float32)"
            ]
          },
          "metadata": {},
          "execution_count": 129
        }
      ]
    },
    {
      "cell_type": "code",
      "source": [
        "path = \"/content/gdrive/MyDrive/Colab Notebooks/nn_investigations/EikonalNN.pb\"\n",
        "tf.keras.models.save_model(model,path)"
      ],
      "metadata": {
        "id": "77TiYq8uI2vI",
        "colab": {
          "base_uri": "https://localhost:8080/"
        },
        "outputId": "dd50aebc-f587-47c3-a8f9-5a40fd0841ae"
      },
      "execution_count": 130,
      "outputs": [
        {
          "output_type": "stream",
          "name": "stdout",
          "text": [
            "INFO:tensorflow:Assets written to: /content/gdrive/MyDrive/Colab Notebooks/nn_investigations/EikonalNN.pb/assets\n"
          ]
        }
      ]
    },
    {
      "cell_type": "code",
      "source": [
        "loaded = tf.keras.models.load_model(path)"
      ],
      "metadata": {
        "id": "wnydrUj3Rs0t"
      },
      "execution_count": null,
      "outputs": []
    },
    {
      "cell_type": "code",
      "source": [
        "loaded.predict(np.array([[0,0,2000]]))"
      ],
      "metadata": {
        "id": "q1nbwUiSq-9T"
      },
      "execution_count": null,
      "outputs": []
    },
    {
      "cell_type": "code",
      "source": [
        ""
      ],
      "metadata": {
        "id": "-0pJnAM5rQkE"
      },
      "execution_count": null,
      "outputs": []
    }
  ]
}