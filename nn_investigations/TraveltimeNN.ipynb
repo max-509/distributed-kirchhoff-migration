{
  "nbformat": 4,
  "nbformat_minor": 0,
  "metadata": {
    "colab": {
      "name": "TraveltimeNN.ipynb",
      "provenance": [],
      "collapsed_sections": []
    },
    "kernelspec": {
      "name": "python3",
      "display_name": "Python 3"
    },
    "language_info": {
      "name": "python"
    },
    "accelerator": "GPU"
  },
  "cells": [
    {
      "cell_type": "code",
      "source": [
        "!pip install eikonalfm"
      ],
      "metadata": {
        "colab": {
          "base_uri": "https://localhost:8080/"
        },
        "id": "m3u76VSNyhDq",
        "outputId": "b3662166-897d-4d0d-e9c6-aae969912cb3"
      },
      "execution_count": 15,
      "outputs": [
        {
          "output_type": "stream",
          "name": "stdout",
          "text": [
            "Collecting eikonalfm\n",
            "  Downloading eikonalfm-0.9.5.tar.gz (12 kB)\n",
            "Requirement already satisfied: numpy>=1.7 in /usr/local/lib/python3.7/dist-packages (from eikonalfm) (1.19.5)\n",
            "Building wheels for collected packages: eikonalfm\n",
            "  Building wheel for eikonalfm (setup.py) ... \u001b[?25l\u001b[?25hdone\n",
            "  Created wheel for eikonalfm: filename=eikonalfm-0.9.5-cp37-cp37m-linux_x86_64.whl size=93311 sha256=5629bc05c2add35709ab58ad8361a4dc0ed4ea02334ba933433e9e141e87f858\n",
            "  Stored in directory: /root/.cache/pip/wheels/e7/3e/c9/d101978dda8f0677a3aab39aab1fbabfb43ff8a89949c790e6\n",
            "Successfully built eikonalfm\n",
            "Installing collected packages: eikonalfm\n",
            "Successfully installed eikonalfm-0.9.5\n"
          ]
        }
      ]
    },
    {
      "cell_type": "code",
      "source": [
        "import pandas as pd\n",
        "import matplotlib.pyplot as plt\n",
        "import numpy as np"
      ],
      "metadata": {
        "id": "SuE32Sympn7O"
      },
      "execution_count": 2,
      "outputs": []
    },
    {
      "cell_type": "code",
      "source": [
        "from google.colab import drive\n",
        "\n",
        "drive.mount('/content/gdrive')\n",
        "\n"
      ],
      "metadata": {
        "colab": {
          "base_uri": "https://localhost:8080/"
        },
        "id": "KRgxluOLLDqZ",
        "outputId": "efae8b7f-f9f6-415b-a718-3ec79ba29da3"
      },
      "execution_count": 1,
      "outputs": [
        {
          "output_type": "stream",
          "name": "stdout",
          "text": [
            "Drive already mounted at /content/gdrive; to attempt to forcibly remount, call drive.mount(\"/content/gdrive\", force_remount=True).\n"
          ]
        }
      ]
    },
    {
      "cell_type": "code",
      "source": [
        "data_set = pd.read_csv('/content/gdrive/MyDrive/Colab Notebooks/nn_investigations/syst_obs.csv')\n",
        "seism_trace = np.load('/content/gdrive/MyDrive/Colab Notebooks/nn_investigations/seism.npy')"
      ],
      "metadata": {
        "id": "UjTATvX6LeG5"
      },
      "execution_count": 3,
      "outputs": []
    },
    {
      "cell_type": "code",
      "source": [
        "# 200 приемников на один источник\n",
        "# шаг между приемниками 10\n",
        "# источники меняются с шагом 20\n",
        "data_set"
      ],
      "metadata": {
        "colab": {
          "base_uri": "https://localhost:8080/",
          "height": 423
        },
        "id": "aZ60YtorO0Bc",
        "outputId": "aeb24a88-3160-4b9d-ac86-c0f0b47745fc"
      },
      "execution_count": 54,
      "outputs": [
        {
          "output_type": "execute_result",
          "data": {
            "text/html": [
              "\n",
              "  <div id=\"df-837e9858-a1c5-4400-b7e2-9ebfdb67898f\">\n",
              "    <div class=\"colab-df-container\">\n",
              "      <div>\n",
              "<style scoped>\n",
              "    .dataframe tbody tr th:only-of-type {\n",
              "        vertical-align: middle;\n",
              "    }\n",
              "\n",
              "    .dataframe tbody tr th {\n",
              "        vertical-align: top;\n",
              "    }\n",
              "\n",
              "    .dataframe thead th {\n",
              "        text-align: right;\n",
              "    }\n",
              "</style>\n",
              "<table border=\"1\" class=\"dataframe\">\n",
              "  <thead>\n",
              "    <tr style=\"text-align: right;\">\n",
              "      <th></th>\n",
              "      <th>FFID</th>\n",
              "      <th>SOUX</th>\n",
              "      <th>SOUZ</th>\n",
              "      <th>RECX</th>\n",
              "      <th>RECZ</th>\n",
              "      <th>CDPX</th>\n",
              "      <th>CDPX_bin</th>\n",
              "    </tr>\n",
              "  </thead>\n",
              "  <tbody>\n",
              "    <tr>\n",
              "      <th>0</th>\n",
              "      <td>1</td>\n",
              "      <td>1000.0</td>\n",
              "      <td>0</td>\n",
              "      <td>0.0</td>\n",
              "      <td>0</td>\n",
              "      <td>500.0</td>\n",
              "      <td>500.0</td>\n",
              "    </tr>\n",
              "    <tr>\n",
              "      <th>1</th>\n",
              "      <td>1</td>\n",
              "      <td>1000.0</td>\n",
              "      <td>0</td>\n",
              "      <td>10.0</td>\n",
              "      <td>0</td>\n",
              "      <td>505.0</td>\n",
              "      <td>505.0</td>\n",
              "    </tr>\n",
              "    <tr>\n",
              "      <th>2</th>\n",
              "      <td>1</td>\n",
              "      <td>1000.0</td>\n",
              "      <td>0</td>\n",
              "      <td>20.0</td>\n",
              "      <td>0</td>\n",
              "      <td>510.0</td>\n",
              "      <td>510.0</td>\n",
              "    </tr>\n",
              "    <tr>\n",
              "      <th>3</th>\n",
              "      <td>1</td>\n",
              "      <td>1000.0</td>\n",
              "      <td>0</td>\n",
              "      <td>30.0</td>\n",
              "      <td>0</td>\n",
              "      <td>515.0</td>\n",
              "      <td>515.0</td>\n",
              "    </tr>\n",
              "    <tr>\n",
              "      <th>4</th>\n",
              "      <td>1</td>\n",
              "      <td>1000.0</td>\n",
              "      <td>0</td>\n",
              "      <td>40.0</td>\n",
              "      <td>0</td>\n",
              "      <td>520.0</td>\n",
              "      <td>520.0</td>\n",
              "    </tr>\n",
              "    <tr>\n",
              "      <th>...</th>\n",
              "      <td>...</td>\n",
              "      <td>...</td>\n",
              "      <td>...</td>\n",
              "      <td>...</td>\n",
              "      <td>...</td>\n",
              "      <td>...</td>\n",
              "      <td>...</td>\n",
              "    </tr>\n",
              "    <tr>\n",
              "      <th>19995</th>\n",
              "      <td>100</td>\n",
              "      <td>2980.0</td>\n",
              "      <td>0</td>\n",
              "      <td>3930.0</td>\n",
              "      <td>0</td>\n",
              "      <td>3455.0</td>\n",
              "      <td>3455.0</td>\n",
              "    </tr>\n",
              "    <tr>\n",
              "      <th>19996</th>\n",
              "      <td>100</td>\n",
              "      <td>2980.0</td>\n",
              "      <td>0</td>\n",
              "      <td>3940.0</td>\n",
              "      <td>0</td>\n",
              "      <td>3460.0</td>\n",
              "      <td>3460.0</td>\n",
              "    </tr>\n",
              "    <tr>\n",
              "      <th>19997</th>\n",
              "      <td>100</td>\n",
              "      <td>2980.0</td>\n",
              "      <td>0</td>\n",
              "      <td>3950.0</td>\n",
              "      <td>0</td>\n",
              "      <td>3465.0</td>\n",
              "      <td>3465.0</td>\n",
              "    </tr>\n",
              "    <tr>\n",
              "      <th>19998</th>\n",
              "      <td>100</td>\n",
              "      <td>2980.0</td>\n",
              "      <td>0</td>\n",
              "      <td>3960.0</td>\n",
              "      <td>0</td>\n",
              "      <td>3470.0</td>\n",
              "      <td>3470.0</td>\n",
              "    </tr>\n",
              "    <tr>\n",
              "      <th>19999</th>\n",
              "      <td>100</td>\n",
              "      <td>2980.0</td>\n",
              "      <td>0</td>\n",
              "      <td>3970.0</td>\n",
              "      <td>0</td>\n",
              "      <td>3475.0</td>\n",
              "      <td>3475.0</td>\n",
              "    </tr>\n",
              "  </tbody>\n",
              "</table>\n",
              "<p>20000 rows × 7 columns</p>\n",
              "</div>\n",
              "      <button class=\"colab-df-convert\" onclick=\"convertToInteractive('df-837e9858-a1c5-4400-b7e2-9ebfdb67898f')\"\n",
              "              title=\"Convert this dataframe to an interactive table.\"\n",
              "              style=\"display:none;\">\n",
              "        \n",
              "  <svg xmlns=\"http://www.w3.org/2000/svg\" height=\"24px\"viewBox=\"0 0 24 24\"\n",
              "       width=\"24px\">\n",
              "    <path d=\"M0 0h24v24H0V0z\" fill=\"none\"/>\n",
              "    <path d=\"M18.56 5.44l.94 2.06.94-2.06 2.06-.94-2.06-.94-.94-2.06-.94 2.06-2.06.94zm-11 1L8.5 8.5l.94-2.06 2.06-.94-2.06-.94L8.5 2.5l-.94 2.06-2.06.94zm10 10l.94 2.06.94-2.06 2.06-.94-2.06-.94-.94-2.06-.94 2.06-2.06.94z\"/><path d=\"M17.41 7.96l-1.37-1.37c-.4-.4-.92-.59-1.43-.59-.52 0-1.04.2-1.43.59L10.3 9.45l-7.72 7.72c-.78.78-.78 2.05 0 2.83L4 21.41c.39.39.9.59 1.41.59.51 0 1.02-.2 1.41-.59l7.78-7.78 2.81-2.81c.8-.78.8-2.07 0-2.86zM5.41 20L4 18.59l7.72-7.72 1.47 1.35L5.41 20z\"/>\n",
              "  </svg>\n",
              "      </button>\n",
              "      \n",
              "  <style>\n",
              "    .colab-df-container {\n",
              "      display:flex;\n",
              "      flex-wrap:wrap;\n",
              "      gap: 12px;\n",
              "    }\n",
              "\n",
              "    .colab-df-convert {\n",
              "      background-color: #E8F0FE;\n",
              "      border: none;\n",
              "      border-radius: 50%;\n",
              "      cursor: pointer;\n",
              "      display: none;\n",
              "      fill: #1967D2;\n",
              "      height: 32px;\n",
              "      padding: 0 0 0 0;\n",
              "      width: 32px;\n",
              "    }\n",
              "\n",
              "    .colab-df-convert:hover {\n",
              "      background-color: #E2EBFA;\n",
              "      box-shadow: 0px 1px 2px rgba(60, 64, 67, 0.3), 0px 1px 3px 1px rgba(60, 64, 67, 0.15);\n",
              "      fill: #174EA6;\n",
              "    }\n",
              "\n",
              "    [theme=dark] .colab-df-convert {\n",
              "      background-color: #3B4455;\n",
              "      fill: #D2E3FC;\n",
              "    }\n",
              "\n",
              "    [theme=dark] .colab-df-convert:hover {\n",
              "      background-color: #434B5C;\n",
              "      box-shadow: 0px 1px 3px 1px rgba(0, 0, 0, 0.15);\n",
              "      filter: drop-shadow(0px 1px 2px rgba(0, 0, 0, 0.3));\n",
              "      fill: #FFFFFF;\n",
              "    }\n",
              "  </style>\n",
              "\n",
              "      <script>\n",
              "        const buttonEl =\n",
              "          document.querySelector('#df-837e9858-a1c5-4400-b7e2-9ebfdb67898f button.colab-df-convert');\n",
              "        buttonEl.style.display =\n",
              "          google.colab.kernel.accessAllowed ? 'block' : 'none';\n",
              "\n",
              "        async function convertToInteractive(key) {\n",
              "          const element = document.querySelector('#df-837e9858-a1c5-4400-b7e2-9ebfdb67898f');\n",
              "          const dataTable =\n",
              "            await google.colab.kernel.invokeFunction('convertToInteractive',\n",
              "                                                     [key], {});\n",
              "          if (!dataTable) return;\n",
              "\n",
              "          const docLinkHtml = 'Like what you see? Visit the ' +\n",
              "            '<a target=\"_blank\" href=https://colab.research.google.com/notebooks/data_table.ipynb>data table notebook</a>'\n",
              "            + ' to learn more about interactive tables.';\n",
              "          element.innerHTML = '';\n",
              "          dataTable['output_type'] = 'display_data';\n",
              "          await google.colab.output.renderOutput(dataTable, element);\n",
              "          const docLink = document.createElement('div');\n",
              "          docLink.innerHTML = docLinkHtml;\n",
              "          element.appendChild(docLink);\n",
              "        }\n",
              "      </script>\n",
              "    </div>\n",
              "  </div>\n",
              "  "
            ],
            "text/plain": [
              "       FFID    SOUX  SOUZ    RECX  RECZ    CDPX  CDPX_bin\n",
              "0         1  1000.0     0     0.0     0   500.0     500.0\n",
              "1         1  1000.0     0    10.0     0   505.0     505.0\n",
              "2         1  1000.0     0    20.0     0   510.0     510.0\n",
              "3         1  1000.0     0    30.0     0   515.0     515.0\n",
              "4         1  1000.0     0    40.0     0   520.0     520.0\n",
              "...     ...     ...   ...     ...   ...     ...       ...\n",
              "19995   100  2980.0     0  3930.0     0  3455.0    3455.0\n",
              "19996   100  2980.0     0  3940.0     0  3460.0    3460.0\n",
              "19997   100  2980.0     0  3950.0     0  3465.0    3465.0\n",
              "19998   100  2980.0     0  3960.0     0  3470.0    3470.0\n",
              "19999   100  2980.0     0  3970.0     0  3475.0    3475.0\n",
              "\n",
              "[20000 rows x 7 columns]"
            ]
          },
          "metadata": {},
          "execution_count": 54
        }
      ]
    },
    {
      "cell_type": "code",
      "source": [
        "fig = plt.figure(figsize=(15,6))\n",
        "plt.imshow(seism_trace.T);\n"
      ],
      "metadata": {
        "id": "-15o-yv2QLMK",
        "colab": {
          "base_uri": "https://localhost:8080/",
          "height": 115
        },
        "outputId": "3ed58a59-e1d2-45e0-ef9e-5865bbb2e1ec"
      },
      "execution_count": 5,
      "outputs": [
        {
          "output_type": "display_data",
          "data": {
            "image/png": "[encoded data removed]",
            "text/plain": [
              "<Figure size 1080x432 with 1 Axes>"
            ]
          },
          "metadata": {
            "needs_background": "light"
          }
        }
      ]
    },
    {
      "cell_type": "code",
      "source": [
        "dt = 0.001\n",
        "dx = 10\n",
        "dz = 10 \n",
        "x_set = np.arange(0,3970 + dx, dx)\n",
        "z_set = np.arange(0,2000 + dz, dz)\n",
        "velocity = np.zeros((len(z_set),len(x_set)))\n",
        "for i in range(len(z_set)):\n",
        "  if i < 50:\n",
        "    velocity[i,:] = 2000\n",
        "  elif (i >= 50 and i < 100):\n",
        "    velocity[i,:] = 3000\n",
        "  elif (i >= 100 and i < 150):\n",
        "    velocity[i,:] = 4000\n",
        "  elif (i >= 150 and i <= 200):\n",
        "    velocity[i,:] = 5000"
      ],
      "metadata": {
        "id": "63LhxvdyYM-r"
      },
      "execution_count": 6,
      "outputs": []
    },
    {
      "cell_type": "code",
      "source": [
        "velocity.shape"
      ],
      "metadata": {
        "colab": {
          "base_uri": "https://localhost:8080/"
        },
        "id": "_7iPV2yytoqo",
        "outputId": "50351384-6458-4a65-8ce1-6f7849b4e13f"
      },
      "execution_count": 7,
      "outputs": [
        {
          "output_type": "execute_result",
          "data": {
            "text/plain": [
              "(201, 398)"
            ]
          },
          "metadata": {},
          "execution_count": 7
        }
      ]
    },
    {
      "cell_type": "code",
      "source": [
        "# Скоростная модель\n",
        "fig = plt.figure(figsize=(8,8))\n",
        "im = plt.imshow(velocity,\n",
        "                aspect = 'auto',\n",
        "                extent = [x_set[0],\n",
        "                          x_set[-1],\n",
        "                          z_set[-1],\n",
        "                          z_set[0]]\n",
        "               )\n",
        "plt.title('Скоростная модель',size = 25)\n",
        "plt.colorbar(im,orientation = 'horizontal')\n",
        "plt.show()"
      ],
      "metadata": {
        "colab": {
          "base_uri": "https://localhost:8080/",
          "height": 465
        },
        "id": "HnsT2TAPvQAy",
        "outputId": "3e1b0889-7670-481a-ea47-b82e54494795"
      },
      "execution_count": 35,
      "outputs": [
        {
          "output_type": "display_data",
          "data": {
            "image/png": "[encoded data removed]",
            "text/plain": [
              "<Figure size 576x576 with 2 Axes>"
            ]
          },
          "metadata": {
            "needs_background": "light"
          }
        }
      ]
    },
    {
      "cell_type": "code",
      "source": [
        "import eikonalfm\n",
        "\n",
        "x_s = (0, 100)# первый индекс z, второй x. Это индексы в массиве координат \n",
        "dx = (1.0, 1.0)\n",
        "order = 2\n",
        "\n",
        "tau_fm = eikonalfm.fast_marching(velocity, x_s, dx, order)"
      ],
      "metadata": {
        "id": "LTViyvJwxmMO"
      },
      "execution_count": 73,
      "outputs": []
    },
    {
      "cell_type": "code",
      "source": [
        "help(eikonalfm.fast_marching)"
      ],
      "metadata": {
        "colab": {
          "base_uri": "https://localhost:8080/"
        },
        "id": "qZHoWScAzSGU",
        "outputId": "2bd29a6a-8508-4707-f4b1-eefe476a3c53"
      },
      "execution_count": 19,
      "outputs": [
        {
          "output_type": "stream",
          "name": "stdout",
          "text": [
            "Help on built-in function fast_marching in module eikonalfm.cfm:\n",
            "\n",
            "fast_marching(c, x_s, dx, order)\n",
            "    Calculates the fast marching solution to the eikonal equation.\n",
            "    \n",
            "    Parameters\n",
            "    ----------\n",
            "    c : ndarray\n",
            "        (background) velocity array, c(x) > 0.\n",
            "    x_s : sequence of ints\n",
            "        Source position as index vector, e.g. ``(0, 0)``. Must have the same length as the number of dimensions of c.\n",
            "    dx : sequence of doubles\n",
            "        Grid spacing for each dimension, dx > 0. Must have the same length as the number of dimensions of c.\n",
            "    order : {1, 2}\n",
            "        Order of the finite difference operators.\n",
            "    \n",
            "    Returns\n",
            "    ----------\n",
            "    tau : ndarray\n",
            "        numerical solution tau for the eikonal equation.\n",
            "\n"
          ]
        }
      ]
    },
    {
      "cell_type": "code",
      "source": [
        "tau_fm.shape"
      ],
      "metadata": {
        "colab": {
          "base_uri": "https://localhost:8080/"
        },
        "id": "mAJ-bx_yzdy2",
        "outputId": "e195fba4-be6e-407e-9f68-e2afcd12c5ef"
      },
      "execution_count": 74,
      "outputs": [
        {
          "output_type": "execute_result",
          "data": {
            "text/plain": [
              "(201, 398)"
            ]
          },
          "metadata": {},
          "execution_count": 74
        }
      ]
    },
    {
      "cell_type": "code",
      "source": [
        "# tau0 = eikonalfm.distance(tau_fm.shape, dx, x_s, indexing=\"ij\") ?  не понял метод\n",
        "im1 = plt.contourf(( tau_fm), # здесь в скобках может стоять tau0*tau_fm\n",
        "                 extent = [x_set[0],\n",
        "                          x_set[-1],\n",
        "                          z_set[0],\n",
        "                          z_set[-1]])\n",
        "plt.colorbar(im1,orientation = 'horizontal')\n",
        "plt.show();"
      ],
      "metadata": {
        "colab": {
          "base_uri": "https://localhost:8080/",
          "height": 253
        },
        "id": "SmM-1L4m0Mb7",
        "outputId": "f4aefa19-be7e-48a9-99a4-6427183dbc47"
      },
      "execution_count": 88,
      "outputs": [
        {
          "output_type": "display_data",
          "data": {
            "image/png": "[encoded data removed]",
            "text/plain": [
              "<Figure size 432x288 with 2 Axes>"
            ]
          },
          "metadata": {
            "needs_background": "light"
          }
        }
      ]
    },
    {
      "cell_type": "code",
      "source": [
        "tau_fm.shape"
      ],
      "metadata": {
        "colab": {
          "base_uri": "https://localhost:8080/"
        },
        "id": "PxjO3rmD8hA2",
        "outputId": "d82746dd-6e04-4aa5-acc8-610bf3dae76d"
      },
      "execution_count": 80,
      "outputs": [
        {
          "output_type": "execute_result",
          "data": {
            "text/plain": [
              "(201, 398)"
            ]
          },
          "metadata": {},
          "execution_count": 80
        }
      ]
    },
    {
      "cell_type": "code",
      "source": [
        ""
      ],
      "metadata": {
        "colab": {
          "base_uri": "https://localhost:8080/"
        },
        "id": "3LMa3hZJDAfw",
        "outputId": "6e174c44-74cb-41bf-b7fb-55a3d38ba7af"
      },
      "execution_count": 101,
      "outputs": [
        {
          "output_type": "execute_result",
          "data": {
            "text/plain": [
              "1010"
            ]
          },
          "metadata": {},
          "execution_count": 101
        }
      ]
    },
    {
      "cell_type": "code",
      "source": [
        ""
      ],
      "metadata": {
        "id": "0gXIEfx2D9In"
      },
      "execution_count": null,
      "outputs": []
    }
  ]
}